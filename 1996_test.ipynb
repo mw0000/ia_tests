{
 "cells": [
  {
   "cell_type": "code",
   "execution_count": 1,
   "metadata": {},
   "outputs": [],
   "source": [
    "// 1. Installation\n",
    "// https://github.com/helgeho/ArchiveSpark/blob/master/notebooks/Selected_Title-and-Text.ipynb\n",
    "\n",
    "//install libraries\n",
    "import org.archive.archivespark._\n",
    "import org.archive.archivespark.functions._\n",
    "import org.archive.archivespark.specific.warc._\n",
    "\n",
    "\n",
    "// prepare session for creating data frames\n",
    "// https://sparkbyexamples.com/spark/different-ways-to-create-a-spark-dataframe/\n",
    "\n",
    "import org.apache.spark.sql.functions._\n",
    "import org.apache.spark.sql.{Row, SparkSession}\n",
    "\n",
    "val session = spark.newSession\n",
    "\n",
    "val spark2 = spark\n",
    "val session2 = spark2.newSession\n",
    "\n",
    "import spark2.implicits._\n",
    "\n",
    "// data files - generic path from docker run -v\n",
    "val cdxPath = \"/data/arc_cdx/*.cdx\"\n",
    "val warcPath = \"/data/warc\"\n",
    "\n",
    "\n",
    "// collect all records\n",
    "\n",
    "val r = ArchiveSpark.load(WarcSpec.fromFiles(cdxPath, warcPath))"
   ]
  },
  {
   "cell_type": "code",
   "execution_count": 2,
   "metadata": {},
   "outputs": [],
   "source": [
    "// 2. get all data for research year\n",
    "val r1 = r.filter(r => r.timestamp.startsWith(\"1996\"))"
   ]
  },
  {
   "cell_type": "code",
   "execution_count": 3,
   "metadata": {},
   "outputs": [
    {
     "data": {
      "text/plain": [
       "{\n",
       "    \"record\" : {\n",
       "        \"redirectUrl\" : \"-\",\n",
       "        \"timestamp\" : \"19961230003113\",\n",
       "        \"digest\" : \"SEIFFLPZ24OLR4RJPFQIA7VXM6AZG25Y\",\n",
       "        \"originalUrl\" : \"http://studio-net.com.pl:80/\",\n",
       "        \"surtUrl\" : \"pl,com,studio-net)/\",\n",
       "        \"mime\" : \"text/html\",\n",
       "        \"compressedSize\" : 1405,\n",
       "        \"meta\" : \"-\",\n",
       "        \"status\" : 200\n",
       "    }\n",
       "}"
      ]
     },
     "execution_count": 3,
     "metadata": {},
     "output_type": "execute_result"
    }
   ],
   "source": [
    "r1.peekJson"
   ]
  },
  {
   "cell_type": "code",
   "execution_count": 7,
   "metadata": {},
   "outputs": [],
   "source": [
    "val m1 = r1.map(f=> (f.originalUrl,f.surtUrl,f.redirectUrl,f.digest,f.status))\n",
    "val df = session.createDataFrame(m1).toDF(\"originalUrl\",\"surtUrl\",\"redirectUrl\",\"digest\",\"status\").cache()"
   ]
  },
  {
   "cell_type": "code",
   "execution_count": 8,
   "metadata": {},
   "outputs": [
    {
     "name": "stdout",
     "output_type": "stream",
     "text": [
      "+--------------------+--------------------+-----------+--------------------+------+\n",
      "|         originalUrl|             surtUrl|redirectUrl|              digest|status|\n",
      "+--------------------+--------------------+-----------+--------------------+------+\n",
      "|http://studio-net...| pl,com,studio-net)/|          -|SEIFFLPZ24OLR4RJP...|   200|\n",
      "|http://studio-net...|pl,com,studio-net...|          -|J7RVGRQDPWWKUZIHO...|   200|\n",
      "|http://studio-net...|pl,com,studio-net...|          -|CHZGLOERIPVY7PJKF...|   200|\n",
      "|http://studio-net...|pl,com,studio-net...|          -|4IEAZP7DIEV4BFZA6...|   200|\n",
      "|http://studio-net...|pl,com,studio-net...|          -|LRWGP7FT2X5LK5MGP...|   200|\n",
      "|http://peclet.sun...|pl,com,suntech,pe...|          -|JXPE6KEXM43S6O5UO...|   200|\n",
      "|http://peclet.sun...|pl,com,suntech,pe...|          -|JXPE6KEXM43S6O5UO...|   200|\n",
      "|http://peclet.sun...|pl,com,suntech,pe...|          -|JXPE6KEXM43S6O5UO...|   200|\n",
      "|http://peclet.sun...|pl,com,suntech,pe...|          -|FMWX5T2OZBC3ZRCTL...|   200|\n",
      "|http://peclet.sun...|pl,com,suntech,pe...|          -|QMOAWPTVNA5QOU3DG...|   200|\n",
      "|http://peclet.sun...|pl,com,suntech,pe...|          -|DJLKGQHMMBHFKHPTZ...|   200|\n",
      "|http://peclet.sun...|pl,com,suntech,pe...|          -|DJLKGQHMMBHFKHPTZ...|   200|\n",
      "|http://peclet.sun...|pl,com,suntech,pe...|          -|QMOAWPTVNA5QOU3DG...|   200|\n",
      "|http://peclet.sun...|pl,com,suntech,pe...|          -|QMOAWPTVNA5QOU3DG...|   200|\n",
      "|http://peclet.sun...|pl,com,suntech,pe...|          -|QMOAWPTVNA5QOU3DG...|   200|\n",
      "|http://peclet.sun...|pl,com,suntech,pe...|          -|3CZBNW76OEE446KIC...|   200|\n",
      "|http://peclet.sun...|pl,com,suntech,pe...|          -|3CZBNW76OEE446KIC...|   200|\n",
      "|http://peclet.sun...|pl,com,suntech,pe...|          -|3CZBNW76OEE446KIC...|   200|\n",
      "|http://peclet.sun...|pl,com,suntech,pe...|          -|QO4BWJ3FZ7JQWUYQF...|   200|\n",
      "|http://peclet.sun...|pl,com,suntech,pe...|          -|QO4BWJ3FZ7JQWUYQF...|   200|\n",
      "+--------------------+--------------------+-----------+--------------------+------+\n",
      "only showing top 20 rows\n",
      "\n"
     ]
    }
   ],
   "source": [
    "df.cache().show()"
   ]
  },
  {
   "cell_type": "code",
   "execution_count": 10,
   "metadata": {},
   "outputs": [
    {
     "name": "stdout",
     "output_type": "stream",
     "text": [
      "+----------------------+\n",
      "|count(DISTINCT digest)|\n",
      "+----------------------+\n",
      "|61678                 |\n",
      "+----------------------+\n",
      "\n"
     ]
    }
   ],
   "source": [
    "// distinct for digest\n",
    "df.select(countDistinct(\"digest\")).show(false)"
   ]
  },
  {
   "cell_type": "code",
   "execution_count": 23,
   "metadata": {},
   "outputs": [
    {
     "name": "stdout",
     "output_type": "stream",
     "text": [
      "+---------------------------+\n",
      "|count(DISTINCT originalUrl)|\n",
      "+---------------------------+\n",
      "|72229                      |\n",
      "+---------------------------+\n",
      "\n"
     ]
    }
   ],
   "source": [
    "df.select(countDistinct(\"originalUrl\")).show(false)"
   ]
  },
  {
   "cell_type": "code",
   "execution_count": 22,
   "metadata": {},
   "outputs": [
    {
     "name": "stdout",
     "output_type": "stream",
     "text": [
      "+-----------------------+\n",
      "|count(DISTINCT surtUrl)|\n",
      "+-----------------------+\n",
      "|71303                  |\n",
      "+-----------------------+\n",
      "\n"
     ]
    }
   ],
   "source": [
    "df.select(countDistinct(\"surtUrl\")).show(false)"
   ]
  },
  {
   "cell_type": "code",
   "execution_count": 17,
   "metadata": {},
   "outputs": [],
   "source": [
    "val df2 = df.groupBy(\"status\").count()"
   ]
  },
  {
   "cell_type": "code",
   "execution_count": 18,
   "metadata": {},
   "outputs": [
    {
     "name": "stdout",
     "output_type": "stream",
     "text": [
      "+------+------+\n",
      "|status| count|\n",
      "+------+------+\n",
      "|   500|    32|\n",
      "|   200|161192|\n",
      "|   302|    94|\n",
      "+------+------+\n",
      "\n"
     ]
    }
   ],
   "source": [
    "df2.show()"
   ]
  },
  {
   "cell_type": "code",
   "execution_count": 19,
   "metadata": {},
   "outputs": [],
   "source": [
    "val df3 = df.groupBy(\"redirectUrl\").count()"
   ]
  },
  {
   "cell_type": "code",
   "execution_count": 20,
   "metadata": {},
   "outputs": [
    {
     "name": "stdout",
     "output_type": "stream",
     "text": [
      "+-----------+------+\n",
      "|redirectUrl| count|\n",
      "+-----------+------+\n",
      "|          -|160936|\n",
      "|          S|   382|\n",
      "+-----------+------+\n",
      "\n"
     ]
    }
   ],
   "source": [
    "df3.show()"
   ]
  },
  {
   "cell_type": "code",
   "execution_count": 21,
   "metadata": {},
   "outputs": [
    {
     "data": {
      "text/plain": [
       "161318"
      ]
     },
     "execution_count": 21,
     "metadata": {},
     "output_type": "execute_result"
    }
   ],
   "source": [
    "r1.count()"
   ]
  },
  {
   "cell_type": "code",
   "execution_count": null,
   "metadata": {},
   "outputs": [],
   "source": []
  }
 ],
 "metadata": {
  "kernelspec": {
   "display_name": "ArchiveSpark",
   "language": "",
   "name": "archivespark"
  },
  "language_info": {
   "name": "scala",
   "version": "2.11.8"
  }
 },
 "nbformat": 4,
 "nbformat_minor": 2
}
